{
 "cells": [
  {
   "cell_type": "code",
   "execution_count": 3,
   "metadata": {},
   "outputs": [
    {
     "name": "stdout",
     "output_type": "stream",
     "text": [
      "I'munderthewater,pleasehelpme.\n"
     ]
    }
   ],
   "source": [
    "sentence = \"I'm under the water, please help me.\"\n",
    "sentence = sentence.replace(\" \", \"\")\n",
    "result = \"\"\n",
    "for item in sentence.split():\n",
    "    st = []\n",
    "    if item.isalpha:\n",
    "        st.append(item)\n",
    "    result = \"\".join(st)\n",
    "print(result)"
   ]
  }
 ],
 "metadata": {
  "kernelspec": {
   "display_name": "Python 3",
   "language": "python",
   "name": "python3"
  },
  "language_info": {
   "codemirror_mode": {
    "name": "ipython",
    "version": 3
   },
   "file_extension": ".py",
   "mimetype": "text/x-python",
   "name": "python",
   "nbconvert_exporter": "python",
   "pygments_lexer": "ipython3",
   "version": "3.7.9"
  },
  "orig_nbformat": 4,
  "vscode": {
   "interpreter": {
    "hash": "5061ffbfbdb10b53e65d8fc54e35229f19af3a935c1b87f0fd9065ae3e3c72f1"
   }
  }
 },
 "nbformat": 4,
 "nbformat_minor": 2
}
